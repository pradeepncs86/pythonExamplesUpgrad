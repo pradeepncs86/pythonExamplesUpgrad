{
  "nbformat": 4,
  "nbformat_minor": 0,
  "metadata": {
    "colab": {
      "provenance": [],
      "include_colab_link": true
    },
    "kernelspec": {
      "name": "python3",
      "display_name": "Python 3"
    },
    "language_info": {
      "name": "python"
    }
  },
  "cells": [
    {
      "cell_type": "markdown",
      "metadata": {
        "id": "view-in-github",
        "colab_type": "text"
      },
      "source": [
        "<a href=\"https://colab.research.google.com/github/pradeepncs86/pythonExamplesUpgrad/blob/main/Bootcamp_Week1_Day2_with_Rajan.ipynb\" target=\"_parent\"><img src=\"https://colab.research.google.com/assets/colab-badge.svg\" alt=\"Open In Colab\"/></a>"
      ]
    },
    {
      "cell_type": "markdown",
      "source": [
        "## Warmup\n",
        "---"
      ],
      "metadata": {
        "id": "IcCEeBuvEKXW"
      }
    },
    {
      "cell_type": "code",
      "source": [
        "# Creating variables\n",
        "\n",
        "\n",
        "planet='earth'\n",
        "diameter=12734"
      ],
      "metadata": {
        "id": "D2QC27JlECVk"
      },
      "execution_count": null,
      "outputs": []
    },
    {
      "cell_type": "code",
      "source": [
        "print(    'the diamater of '     ,   planet     ,    'is'     , diameter   )"
      ],
      "metadata": {
        "colab": {
          "base_uri": "https://localhost:8080/"
        },
        "id": "n2DPA_vhEi9I",
        "outputId": "97714fdb-6745-41e9-ca95-fbcbedf68f6b"
      },
      "execution_count": null,
      "outputs": [
        {
          "output_type": "stream",
          "name": "stdout",
          "text": [
            "the diamater of  earth is 12734\n"
          ]
        }
      ]
    },
    {
      "cell_type": "code",
      "source": [
        "# preparing the sentances by combining string and variable\n",
        "# like this one 'the diamater of  earth is 12734' is technically called\n",
        "# STRING FORMATTING."
      ],
      "metadata": {
        "id": "Y4xabnrFEof-"
      },
      "execution_count": null,
      "outputs": []
    },
    {
      "cell_type": "code",
      "source": [
        "# it is ok to format string using 2 variables but not ok when it is LARGE SCALE!\n",
        "# when there are 200 variables."
      ],
      "metadata": {
        "id": "T8cH56JtFZha"
      },
      "execution_count": null,
      "outputs": []
    },
    {
      "cell_type": "code",
      "source": [],
      "metadata": {
        "id": "JUmXYneKFqEt"
      },
      "execution_count": null,
      "outputs": []
    },
    {
      "cell_type": "markdown",
      "source": [
        "# String formatting\n",
        "---"
      ],
      "metadata": {
        "id": "hSF0C8dyFytm"
      }
    },
    {
      "cell_type": "code",
      "source": [
        "# how to format the strings professionally?"
      ],
      "metadata": {
        "id": "qS9MTAUMFzwd"
      },
      "execution_count": null,
      "outputs": []
    },
    {
      "cell_type": "code",
      "source": [
        "planet='earth'\n",
        "diameter=12734"
      ],
      "metadata": {
        "id": "Ma6G6LRWF2kg"
      },
      "execution_count": null,
      "outputs": []
    },
    {
      "cell_type": "code",
      "source": [
        "# this method of using ,comma isn't recommended.\n",
        "print(    'the diamater of '     ,   planet     ,    'is'     , diameter   )"
      ],
      "metadata": {
        "colab": {
          "base_uri": "https://localhost:8080/"
        },
        "id": "4ZJyHESEF5C6",
        "outputId": "b55ad12b-4eec-4fc6-f570-ae52fed52b68"
      },
      "execution_count": null,
      "outputs": [
        {
          "output_type": "stream",
          "name": "stdout",
          "text": [
            "the diamater of  earth is 12734\n"
          ]
        }
      ]
    },
    {
      "cell_type": "code",
      "source": [
        "# recommended method is : F String\n",
        "\n",
        "print(f' the diameter of {planet} is {diameter}')"
      ],
      "metadata": {
        "colab": {
          "base_uri": "https://localhost:8080/"
        },
        "id": "yaPVF6aJF9SQ",
        "outputId": "80af6ade-6edc-4355-8c19-ee700afae48b"
      },
      "execution_count": null,
      "outputs": [
        {
          "output_type": "stream",
          "name": "stdout",
          "text": [
            " the diameter of earth is 12734\n"
          ]
        }
      ]
    },
    {
      "cell_type": "code",
      "source": [
        "# there are 2 rules i am following :\n",
        "# Rule1 : the sentance must be prefixed with the letter 'f'\n",
        "# Rule2:  the variables must be enclosed in the curly brackets."
      ],
      "metadata": {
        "id": "asfheYK6GFQm"
      },
      "execution_count": null,
      "outputs": []
    },
    {
      "cell_type": "code",
      "source": [],
      "metadata": {
        "id": "iZ1qwDEXHAHM"
      },
      "execution_count": null,
      "outputs": []
    },
    {
      "cell_type": "markdown",
      "source": [
        "# Quick Activity that Helps Build Confidence\n",
        "---"
      ],
      "metadata": {
        "id": "AhW4uQXkHHEU"
      }
    },
    {
      "cell_type": "code",
      "source": [
        "item='clock'\n",
        "day='yesterday'\n",
        "impact='time consuming'"
      ],
      "metadata": {
        "id": "ihE2fpw2HI5Y"
      },
      "execution_count": null,
      "outputs": []
    },
    {
      "cell_type": "code",
      "source": [
        "# using F String to prepare the below string.\n",
        "'i ate a clock yesterday it was very time consuming'"
      ],
      "metadata": {
        "colab": {
          "base_uri": "https://localhost:8080/",
          "height": 35
        },
        "id": "UHj_EMo0HL-V",
        "outputId": "48683e22-d9b5-4f26-e4b9-5e683345ae83"
      },
      "execution_count": null,
      "outputs": [
        {
          "output_type": "execute_result",
          "data": {
            "text/plain": [
              "'i ate a clock yesterday it was very time consuming'"
            ],
            "application/vnd.google.colaboratory.intrinsic+json": {
              "type": "string"
            }
          },
          "metadata": {},
          "execution_count": 11
        }
      ]
    },
    {
      "cell_type": "code",
      "source": [],
      "metadata": {
        "id": "mmpRayTlHPhN"
      },
      "execution_count": null,
      "outputs": []
    },
    {
      "cell_type": "code",
      "source": [],
      "metadata": {
        "id": "7_HfGhbHHiEw"
      },
      "execution_count": null,
      "outputs": []
    },
    {
      "cell_type": "markdown",
      "source": [
        "# Basic Input/Output\n",
        "---"
      ],
      "metadata": {
        "id": "liCNDWyzIV0T"
      }
    },
    {
      "cell_type": "code",
      "source": [
        "# input(): this produces a textbox , it is used to take/accept input from user or customer\n",
        "\n",
        "\n",
        "input('hey bro! what is your name ?')"
      ],
      "metadata": {
        "colab": {
          "base_uri": "https://localhost:8080/",
          "height": 52
        },
        "id": "ceuRr4JgIXgz",
        "outputId": "af99233a-9c52-4109-b813-f8dd1e20d5cb"
      },
      "execution_count": null,
      "outputs": [
        {
          "name": "stdout",
          "output_type": "stream",
          "text": [
            "hey bro! what is your name ?zhining\n"
          ]
        },
        {
          "output_type": "execute_result",
          "data": {
            "text/plain": [
              "'zhining'"
            ],
            "application/vnd.google.colaboratory.intrinsic+json": {
              "type": "string"
            }
          },
          "metadata": {},
          "execution_count": 15
        }
      ]
    },
    {
      "cell_type": "code",
      "source": [
        "# here is how we accept input in a variable\n",
        "\n",
        "username = input('hey bro! choose a username ')\n",
        "city = input('where are you from ? ')\n",
        "\n",
        "print(f'hello {username}  , {city} is a nice place to live' )"
      ],
      "metadata": {
        "colab": {
          "base_uri": "https://localhost:8080/"
        },
        "id": "EnoCXkksJNMq",
        "outputId": "db1739c6-eb16-4a30-9ba1-0f7ea6a9ba8a"
      },
      "execution_count": null,
      "outputs": [
        {
          "output_type": "stream",
          "name": "stdout",
          "text": [
            "hey bro! choose a username mahesh\n",
            "where are you from ? jaipur\n",
            "hello mahesh  , jaipur is a nice place to live\n"
          ]
        }
      ]
    },
    {
      "cell_type": "code",
      "source": [],
      "metadata": {
        "id": "QYVVUafJJrrj"
      },
      "execution_count": null,
      "outputs": []
    },
    {
      "cell_type": "markdown",
      "source": [
        "# Accepting Numeric Inputs\n",
        "---"
      ],
      "metadata": {
        "id": "T_d-_zqJL7Ka"
      }
    },
    {
      "cell_type": "code",
      "source": [
        "# Rule : input() is designed to return STRING Value , even if you type numbers."
      ],
      "metadata": {
        "id": "QqDnpwXBL8-y"
      },
      "execution_count": null,
      "outputs": []
    },
    {
      "cell_type": "code",
      "source": [
        "age = input('enter your age ')"
      ],
      "metadata": {
        "colab": {
          "base_uri": "https://localhost:8080/"
        },
        "id": "kp7THLMOMD8v",
        "outputId": "a46beb72-2c7b-40af-db6d-3bddb36fb31a"
      },
      "execution_count": null,
      "outputs": [
        {
          "name": "stdout",
          "output_type": "stream",
          "text": [
            "enter your age 21\n"
          ]
        }
      ]
    },
    {
      "cell_type": "code",
      "source": [
        "# use type() to check the datatype\n",
        "\n",
        "\n",
        "type(age)"
      ],
      "metadata": {
        "colab": {
          "base_uri": "https://localhost:8080/"
        },
        "id": "CO7b-AhuMFSK",
        "outputId": "e81661bc-4654-4c49-83fc-e778c762fc51"
      },
      "execution_count": null,
      "outputs": [
        {
          "output_type": "execute_result",
          "data": {
            "text/plain": [
              "str"
            ]
          },
          "metadata": {},
          "execution_count": 23
        }
      ]
    },
    {
      "cell_type": "code",
      "source": [
        "# what is wrong if the datatype of age variable is STRING ?\n",
        "# answer: YOu cannot do the MATH.\n",
        "\n",
        "age+1"
      ],
      "metadata": {
        "colab": {
          "base_uri": "https://localhost:8080/",
          "height": 176
        },
        "id": "DAc9uAb4MHya",
        "outputId": "77eec337-c706-47f8-f6e2-1e9a057176d7"
      },
      "execution_count": null,
      "outputs": [
        {
          "output_type": "error",
          "ename": "TypeError",
          "evalue": "can only concatenate str (not \"int\") to str",
          "traceback": [
            "\u001b[0;31m---------------------------------------------------------------------------\u001b[0m",
            "\u001b[0;31mTypeError\u001b[0m                                 Traceback (most recent call last)",
            "\u001b[0;32m<ipython-input-24-7246cef36f81>\u001b[0m in \u001b[0;36m<cell line: 0>\u001b[0;34m()\u001b[0m\n\u001b[1;32m      2\u001b[0m \u001b[0;31m# answer: YOu cannot do the MATH.\u001b[0m\u001b[0;34m\u001b[0m\u001b[0;34m\u001b[0m\u001b[0m\n\u001b[1;32m      3\u001b[0m \u001b[0;34m\u001b[0m\u001b[0m\n\u001b[0;32m----> 4\u001b[0;31m \u001b[0mage\u001b[0m\u001b[0;34m+\u001b[0m\u001b[0;36m1\u001b[0m\u001b[0;34m\u001b[0m\u001b[0;34m\u001b[0m\u001b[0m\n\u001b[0m",
            "\u001b[0;31mTypeError\u001b[0m: can only concatenate str (not \"int\") to str"
          ]
        }
      ]
    },
    {
      "cell_type": "code",
      "source": [
        "# what is the solution ?\n",
        "\n",
        "# convert String Value into Integer\n",
        "# technically converting a datatype into another datatype is called TYPECASTING."
      ],
      "metadata": {
        "id": "7uyvRck2MYzc"
      },
      "execution_count": null,
      "outputs": []
    },
    {
      "cell_type": "code",
      "source": [
        "age = int ( input( 'enter your age  '))"
      ],
      "metadata": {
        "colab": {
          "base_uri": "https://localhost:8080/"
        },
        "id": "8Z0XoNpDMo-K",
        "outputId": "752953e8-05eb-4ad2-af02-860fa22a1b84"
      },
      "execution_count": null,
      "outputs": [
        {
          "name": "stdout",
          "output_type": "stream",
          "text": [
            "enter your age  12\n"
          ]
        }
      ]
    },
    {
      "cell_type": "code",
      "source": [
        "type( age )"
      ],
      "metadata": {
        "colab": {
          "base_uri": "https://localhost:8080/"
        },
        "id": "TfAh7vZEM4SF",
        "outputId": "24afec73-934a-4b3c-a206-eeda752bb193"
      },
      "execution_count": null,
      "outputs": [
        {
          "output_type": "execute_result",
          "data": {
            "text/plain": [
              "int"
            ]
          },
          "metadata": {},
          "execution_count": 27
        }
      ]
    },
    {
      "cell_type": "code",
      "source": [
        "age+1"
      ],
      "metadata": {
        "colab": {
          "base_uri": "https://localhost:8080/"
        },
        "id": "qnIoXdYBM5S2",
        "outputId": "8debdc8c-5611-4ccc-e2f8-7358f46ce035"
      },
      "execution_count": null,
      "outputs": [
        {
          "output_type": "execute_result",
          "data": {
            "text/plain": [
              "13"
            ]
          },
          "metadata": {},
          "execution_count": 28
        }
      ]
    },
    {
      "cell_type": "code",
      "source": [],
      "metadata": {
        "id": "R9E8F5-UM7We"
      },
      "execution_count": null,
      "outputs": []
    },
    {
      "cell_type": "code",
      "source": [
        "# you are asked to accept weight in Kilograms and Display the Weight in Grams\n",
        "\n",
        "\n",
        "kilo = float ( input(' enter weight in Kilograms '))\n",
        "\n",
        "\n",
        "grams = kilo * 1000\n",
        "\n",
        "\n",
        "print(f'{kilo} Kg(s)    is {grams} gms.')"
      ],
      "metadata": {
        "colab": {
          "base_uri": "https://localhost:8080/"
        },
        "id": "GMFHA9dJNhqn",
        "outputId": "df4d85dd-1c67-4c87-9fb4-727c5babfa99"
      },
      "execution_count": null,
      "outputs": [
        {
          "output_type": "stream",
          "name": "stdout",
          "text": [
            " enter weight in Kilograms 7.5\n",
            "7.5 Kg(s)    is 7500.0 gms.\n"
          ]
        }
      ]
    },
    {
      "cell_type": "code",
      "source": [],
      "metadata": {
        "id": "cNwFJswjNtwb"
      },
      "execution_count": null,
      "outputs": []
    },
    {
      "cell_type": "markdown",
      "source": [
        "# Quick Activity That Helps Build Confidence\n",
        "---"
      ],
      "metadata": {
        "id": "OU8UYVUIOTwe"
      }
    },
    {
      "cell_type": "code",
      "source": [
        "# Ask the user to Enter Distance in Miles , Write logic to convert Miles into Kilometers and display\n",
        "# kilometers equivalent."
      ],
      "metadata": {
        "id": "MGhIYxRDOVXE"
      },
      "execution_count": null,
      "outputs": []
    },
    {
      "cell_type": "code",
      "source": [
        "Miles = float(input('Enter distance in Miles'))\n",
        "kilometers = Miles*1.609\n",
        "print(f'{Miles} miles is {kilometers} kilometers')"
      ],
      "metadata": {
        "colab": {
          "base_uri": "https://localhost:8080/"
        },
        "id": "uC-cZY2LOc0b",
        "outputId": "a8a283bd-a5e0-4400-fa67-2e68c8e35888"
      },
      "execution_count": null,
      "outputs": [
        {
          "output_type": "stream",
          "name": "stdout",
          "text": [
            "Enter distance in Miles12\n",
            "12.0 miles is 19.308 kilometers\n"
          ]
        }
      ]
    },
    {
      "cell_type": "code",
      "source": [],
      "metadata": {
        "id": "mhvG1h_SPNSE"
      },
      "execution_count": null,
      "outputs": []
    },
    {
      "cell_type": "markdown",
      "source": [
        "# Activity That Helps Build Confidence\n",
        "---\n",
        "<pre>\n",
        "Ask the user to Enter car's ex-showroom price.\n",
        "\n",
        "write logic to calculate\n",
        "- GST @ 18%\n",
        "- TCS @ 1%\n",
        "\n",
        "Display GST , TCS and Exshowroom and the final Payable price for CAR."
      ],
      "metadata": {
        "id": "3G9lpA3BPZsg"
      }
    },
    {
      "cell_type": "code",
      "source": [
        "\n",
        "price =  float ( input('enter ExShowroom Price '))\n",
        "\n",
        "# calculate gst @ 18%\n",
        "\n",
        "gstTax =  price * .18\n",
        "\n",
        "# calculate TCS @ 1%\n",
        "\n",
        "tcsTax = price * .01\n",
        "\n",
        "# calculate totalPayable\n",
        "\n",
        "payable = price + gstTax + tcsTax\n",
        "\n",
        "# 😀 Did u know you can use ''' (triple quotes) for multiple line Messages\n",
        "\n",
        "billSummary = f'''\n",
        "------------------BILL--------------\n",
        "ExShowroom Price :     {price}\n",
        "GST @ 18%        :     {gstTax}\n",
        "TCS @ 1%         :     {tcsTax}\n",
        "Final Amount     :     {payable}\n",
        "-----------------------------------\n",
        "'''\n",
        "# instead of printing , i decided to store the string in a variable i.e. billSummary.\n",
        "\n",
        "print( billSummary )\n",
        "\n"
      ],
      "metadata": {
        "colab": {
          "base_uri": "https://localhost:8080/"
        },
        "id": "I-DRmT0yPupJ",
        "outputId": "9bf51bc5-b27c-44ed-bcb3-d85b8fc5aca0"
      },
      "execution_count": null,
      "outputs": [
        {
          "output_type": "stream",
          "name": "stdout",
          "text": [
            "enter ExShowroom Price 1450000\n",
            "\n",
            "------------------BILL--------------\n",
            "ExShowroom Price :     1450000.0\n",
            "GST @ 18%        :     261000.0\n",
            "TCS @ 1%         :     14500.0\n",
            "Final Amount     :     1725500.0\n",
            "-----------------------------------\n",
            "\n"
          ]
        }
      ]
    },
    {
      "cell_type": "code",
      "source": [],
      "metadata": {
        "id": "tAMKxBtvSEos"
      },
      "execution_count": null,
      "outputs": []
    },
    {
      "cell_type": "markdown",
      "source": [
        "# Post ☕ Break Topics\n",
        "----\n",
        "1. indentation\n",
        "2. Decision Making\n",
        "3. Handling Multiple Conditions"
      ],
      "metadata": {
        "id": "ocDeSvdpTGlD"
      }
    },
    {
      "cell_type": "code",
      "source": [],
      "metadata": {
        "id": "C4b-T5SdTNV4"
      },
      "execution_count": null,
      "outputs": []
    },
    {
      "cell_type": "markdown",
      "source": [
        "# Indentation\n",
        "---"
      ],
      "metadata": {
        "id": "cVM1XYXYW_rn"
      }
    },
    {
      "cell_type": "markdown",
      "source": [
        "Indentation is used to represent scope or hierarchy"
      ],
      "metadata": {
        "id": "XnI6LEa5XMe4"
      }
    },
    {
      "cell_type": "code",
      "source": [],
      "metadata": {
        "id": "VxwXvE0DXAvn"
      },
      "execution_count": null,
      "outputs": []
    },
    {
      "cell_type": "markdown",
      "source": [
        "# Decision Making\n",
        "----"
      ],
      "metadata": {
        "id": "I9BnBhDyY1HY"
      }
    },
    {
      "cell_type": "code",
      "source": [
        "#case1\n",
        "food='pizza'\n",
        "\n",
        "\n",
        "if food == 'pizza' :\n",
        "  print('hurray! i like pizza')\n",
        "\n",
        "\n",
        "print('this code is unaffected by condition')"
      ],
      "metadata": {
        "colab": {
          "base_uri": "https://localhost:8080/"
        },
        "id": "rI6eqSDmY12v",
        "outputId": "38140d54-5b45-4e0b-c9b9-20efb86931ee"
      },
      "execution_count": null,
      "outputs": [
        {
          "output_type": "stream",
          "name": "stdout",
          "text": [
            "hurray! i like pizza\n",
            "this code is unaffected by condition\n"
          ]
        }
      ]
    },
    {
      "cell_type": "code",
      "source": [
        "# case 2\n",
        "food='naplespizza'\n",
        "\n",
        "\n",
        "if food == 'pizza' :\n",
        "  print('hurray! i like pizza')\n",
        "\n",
        "\n",
        "print('this code is unaffected by condition')"
      ],
      "metadata": {
        "colab": {
          "base_uri": "https://localhost:8080/"
        },
        "id": "0x4vBh1tZ8my",
        "outputId": "8d00e160-a4f4-41dd-cffc-708e2a0401a7"
      },
      "execution_count": null,
      "outputs": [
        {
          "output_type": "stream",
          "name": "stdout",
          "text": [
            "this code is unaffected by condition\n"
          ]
        }
      ]
    },
    {
      "cell_type": "code",
      "source": [],
      "metadata": {
        "id": "xJ4_xjNwZ-mX"
      },
      "execution_count": null,
      "outputs": []
    },
    {
      "cell_type": "markdown",
      "source": [
        "# Objective: ask the user to enter their age, write condition to determine if the user is elligible to vote or not."
      ],
      "metadata": {
        "id": "QPdZ2O-Karhb"
      }
    },
    {
      "cell_type": "code",
      "source": [
        "age = int ( input('please enter your age !'))\n",
        "\n",
        "\n",
        "if age >= 18 :\n",
        "  print('hurray!')\n",
        "  print('you can vote')\n",
        "\n",
        "else:\n",
        "  print('oops!')\n",
        "  print('you cannot vote')\n",
        "\n",
        "\n"
      ],
      "metadata": {
        "colab": {
          "base_uri": "https://localhost:8080/"
        },
        "id": "lubk3A_fayYA",
        "outputId": "7921541b-50f9-412c-8519-6a5e85f17a81"
      },
      "execution_count": null,
      "outputs": [
        {
          "output_type": "stream",
          "name": "stdout",
          "text": [
            "please enter your age !14\n",
            "oops!\n",
            "you cannot vote\n"
          ]
        }
      ]
    },
    {
      "cell_type": "code",
      "source": [],
      "metadata": {
        "id": "LD5_y6JMbRRQ"
      },
      "execution_count": null,
      "outputs": []
    },
    {
      "cell_type": "markdown",
      "source": [
        "# Handling Multiple Conditions using Logical AND Operator\n",
        "---\n",
        "AND is Used to ensure both conditions must be TRUE"
      ],
      "metadata": {
        "id": "8RytjyNbcDLo"
      }
    },
    {
      "cell_type": "code",
      "source": [
        "# Objective: you are asked to accept age from user and determine if the user is teenager or not."
      ],
      "metadata": {
        "id": "RoqK48KQb96E"
      },
      "execution_count": null,
      "outputs": []
    },
    {
      "cell_type": "code",
      "source": [
        "# age >=13\n",
        "# age <=19\n"
      ],
      "metadata": {
        "id": "SwI2PNACcH1k"
      },
      "execution_count": null,
      "outputs": []
    },
    {
      "cell_type": "code",
      "source": [
        "age = int (input('enter your age '))\n",
        "\n",
        "if age >=13 and age<=19:\n",
        "  print('teen')\n",
        "\n",
        "else:\n",
        "  print('no-teen')"
      ],
      "metadata": {
        "colab": {
          "base_uri": "https://localhost:8080/"
        },
        "id": "8j7pCcM4cQf1",
        "outputId": "fccc2a67-eeae-4cfa-c4f6-4c6556f63fa1"
      },
      "execution_count": null,
      "outputs": [
        {
          "output_type": "stream",
          "name": "stdout",
          "text": [
            "enter your age 17\n",
            "teen\n"
          ]
        }
      ]
    },
    {
      "cell_type": "code",
      "source": [
        "print ('teen' if age>=13 and age<=19 else 'no-teen')"
      ],
      "metadata": {
        "colab": {
          "base_uri": "https://localhost:8080/"
        },
        "id": "aoqJ-srzcVKM",
        "outputId": "13c64a3b-e983-4129-b781-30a15c3e449d"
      },
      "execution_count": null,
      "outputs": [
        {
          "output_type": "stream",
          "name": "stdout",
          "text": [
            "teen\n"
          ]
        }
      ]
    },
    {
      "cell_type": "code",
      "source": [],
      "metadata": {
        "id": "D_xQRYThcxKz"
      },
      "execution_count": null,
      "outputs": []
    },
    {
      "cell_type": "markdown",
      "source": [
        "# Handling Multiple Conditions using elif\n",
        "---"
      ],
      "metadata": {
        "id": "xlEzYQUtdOG7"
      }
    },
    {
      "cell_type": "code",
      "source": [
        "marks = int(input('enter marks '))\n",
        "\n",
        "if marks > 80:\n",
        "  print('Grade-A')\n",
        "\n",
        "elif marks > 60 :\n",
        "  print('Grade-B')\n",
        "\n",
        "elif marks > 40:\n",
        "  print('Grade-C')\n",
        "\n",
        "else:\n",
        "  print('No-Grade')\n",
        "      # this will execute when All Above Condtions are FALSE\n"
      ],
      "metadata": {
        "colab": {
          "base_uri": "https://localhost:8080/"
        },
        "id": "f0BFBNZCdQLt",
        "outputId": "ad8103b3-8ace-4d04-905f-812153d4ce54"
      },
      "execution_count": null,
      "outputs": [
        {
          "output_type": "stream",
          "name": "stdout",
          "text": [
            "No-Grade\n"
          ]
        }
      ]
    },
    {
      "cell_type": "code",
      "source": [],
      "metadata": {
        "id": "NYS8sixgd0ud"
      },
      "execution_count": null,
      "outputs": []
    },
    {
      "cell_type": "markdown",
      "source": [
        "# Quick Activity That Helps Build Confidence:\n",
        "------------------------------------------------------\n",
        "<pre>\n",
        "ask the user to enter a number,\n",
        "\n",
        "add condition to determine if the number is\n",
        "\n",
        "+ve ,\n",
        "-ve ,\n",
        "or Neutral i.e. 0"
      ],
      "metadata": {
        "id": "xtuzJEuWezCL"
      }
    },
    {
      "cell_type": "code",
      "source": [
        "num = int (input('enter any number '))\n",
        "\n",
        "if num>0:\n",
        "  print('+ve')\n",
        "\n",
        "elif num < 0 :\n",
        "  print('-ve')\n",
        "\n",
        "else:\n",
        "  print('neutral')"
      ],
      "metadata": {
        "colab": {
          "base_uri": "https://localhost:8080/"
        },
        "id": "KMyYfqEZe9Da",
        "outputId": "8698bdc9-7394-419e-a823-2d4b20643805"
      },
      "execution_count": null,
      "outputs": [
        {
          "output_type": "stream",
          "name": "stdout",
          "text": [
            "enter any number 0\n",
            "neutral\n"
          ]
        }
      ]
    },
    {
      "cell_type": "code",
      "source": [],
      "metadata": {
        "id": "q2ophFUpf018"
      },
      "execution_count": null,
      "outputs": []
    }
  ]
}